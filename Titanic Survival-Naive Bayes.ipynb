{
 "cells": [
  {
   "cell_type": "code",
   "execution_count": 1,
   "id": "b0798f56",
   "metadata": {},
   "outputs": [],
   "source": [
    "import pandas as pd\n",
    "import numpy as np"
   ]
  },
  {
   "cell_type": "code",
   "execution_count": 2,
   "id": "ebc2b5dc",
   "metadata": {},
   "outputs": [
    {
     "data": {
      "text/html": [
       "<div>\n",
       "<style scoped>\n",
       "    .dataframe tbody tr th:only-of-type {\n",
       "        vertical-align: middle;\n",
       "    }\n",
       "\n",
       "    .dataframe tbody tr th {\n",
       "        vertical-align: top;\n",
       "    }\n",
       "\n",
       "    .dataframe thead th {\n",
       "        text-align: right;\n",
       "    }\n",
       "</style>\n",
       "<table border=\"1\" class=\"dataframe\">\n",
       "  <thead>\n",
       "    <tr style=\"text-align: right;\">\n",
       "      <th></th>\n",
       "      <th>PassengerId</th>\n",
       "      <th>Survived</th>\n",
       "      <th>Pclass</th>\n",
       "      <th>Name</th>\n",
       "      <th>Sex</th>\n",
       "      <th>Age</th>\n",
       "      <th>SibSp</th>\n",
       "      <th>Parch</th>\n",
       "      <th>Ticket</th>\n",
       "      <th>Fare</th>\n",
       "      <th>Cabin</th>\n",
       "      <th>Embarked</th>\n",
       "    </tr>\n",
       "  </thead>\n",
       "  <tbody>\n",
       "    <tr>\n",
       "      <th>0</th>\n",
       "      <td>1</td>\n",
       "      <td>0</td>\n",
       "      <td>3</td>\n",
       "      <td>Braund, Mr. Owen Harris</td>\n",
       "      <td>male</td>\n",
       "      <td>22.0</td>\n",
       "      <td>1</td>\n",
       "      <td>0</td>\n",
       "      <td>A/5 21171</td>\n",
       "      <td>7.2500</td>\n",
       "      <td>NaN</td>\n",
       "      <td>S</td>\n",
       "    </tr>\n",
       "    <tr>\n",
       "      <th>1</th>\n",
       "      <td>2</td>\n",
       "      <td>1</td>\n",
       "      <td>1</td>\n",
       "      <td>Cumings, Mrs. John Bradley (Florence Briggs Th...</td>\n",
       "      <td>female</td>\n",
       "      <td>38.0</td>\n",
       "      <td>1</td>\n",
       "      <td>0</td>\n",
       "      <td>PC 17599</td>\n",
       "      <td>71.2833</td>\n",
       "      <td>C85</td>\n",
       "      <td>C</td>\n",
       "    </tr>\n",
       "    <tr>\n",
       "      <th>2</th>\n",
       "      <td>3</td>\n",
       "      <td>1</td>\n",
       "      <td>3</td>\n",
       "      <td>Heikkinen, Miss. Laina</td>\n",
       "      <td>female</td>\n",
       "      <td>26.0</td>\n",
       "      <td>0</td>\n",
       "      <td>0</td>\n",
       "      <td>STON/O2. 3101282</td>\n",
       "      <td>7.9250</td>\n",
       "      <td>NaN</td>\n",
       "      <td>S</td>\n",
       "    </tr>\n",
       "    <tr>\n",
       "      <th>3</th>\n",
       "      <td>4</td>\n",
       "      <td>1</td>\n",
       "      <td>1</td>\n",
       "      <td>Futrelle, Mrs. Jacques Heath (Lily May Peel)</td>\n",
       "      <td>female</td>\n",
       "      <td>35.0</td>\n",
       "      <td>1</td>\n",
       "      <td>0</td>\n",
       "      <td>113803</td>\n",
       "      <td>53.1000</td>\n",
       "      <td>C123</td>\n",
       "      <td>S</td>\n",
       "    </tr>\n",
       "    <tr>\n",
       "      <th>4</th>\n",
       "      <td>5</td>\n",
       "      <td>0</td>\n",
       "      <td>3</td>\n",
       "      <td>Allen, Mr. William Henry</td>\n",
       "      <td>male</td>\n",
       "      <td>35.0</td>\n",
       "      <td>0</td>\n",
       "      <td>0</td>\n",
       "      <td>373450</td>\n",
       "      <td>8.0500</td>\n",
       "      <td>NaN</td>\n",
       "      <td>S</td>\n",
       "    </tr>\n",
       "  </tbody>\n",
       "</table>\n",
       "</div>"
      ],
      "text/plain": [
       "   PassengerId  Survived  Pclass  \\\n",
       "0            1         0       3   \n",
       "1            2         1       1   \n",
       "2            3         1       3   \n",
       "3            4         1       1   \n",
       "4            5         0       3   \n",
       "\n",
       "                                                Name     Sex   Age  SibSp  \\\n",
       "0                            Braund, Mr. Owen Harris    male  22.0      1   \n",
       "1  Cumings, Mrs. John Bradley (Florence Briggs Th...  female  38.0      1   \n",
       "2                             Heikkinen, Miss. Laina  female  26.0      0   \n",
       "3       Futrelle, Mrs. Jacques Heath (Lily May Peel)  female  35.0      1   \n",
       "4                           Allen, Mr. William Henry    male  35.0      0   \n",
       "\n",
       "   Parch            Ticket     Fare Cabin Embarked  \n",
       "0      0         A/5 21171   7.2500   NaN        S  \n",
       "1      0          PC 17599  71.2833   C85        C  \n",
       "2      0  STON/O2. 3101282   7.9250   NaN        S  \n",
       "3      0            113803  53.1000  C123        S  \n",
       "4      0            373450   8.0500   NaN        S  "
      ]
     },
     "execution_count": 2,
     "metadata": {},
     "output_type": "execute_result"
    }
   ],
   "source": [
    "df = pd.DataFrame(pd.read_csv('Titanic.csv'))\n",
    "df.head()"
   ]
  },
  {
   "cell_type": "code",
   "execution_count": 3,
   "id": "48dd8fb5",
   "metadata": {},
   "outputs": [
    {
     "data": {
      "text/plain": [
       "(891, 12)"
      ]
     },
     "execution_count": 3,
     "metadata": {},
     "output_type": "execute_result"
    }
   ],
   "source": [
    "df.shape"
   ]
  },
  {
   "cell_type": "code",
   "execution_count": 4,
   "id": "91da7ad7",
   "metadata": {},
   "outputs": [
    {
     "data": {
      "text/plain": [
       "PassengerId      0\n",
       "Survived         0\n",
       "Pclass           0\n",
       "Name             0\n",
       "Sex              0\n",
       "Age            177\n",
       "SibSp            0\n",
       "Parch            0\n",
       "Ticket           0\n",
       "Fare             0\n",
       "Cabin          687\n",
       "Embarked         2\n",
       "dtype: int64"
      ]
     },
     "execution_count": 4,
     "metadata": {},
     "output_type": "execute_result"
    }
   ],
   "source": [
    "df.isnull().sum()"
   ]
  },
  {
   "cell_type": "code",
   "execution_count": 5,
   "id": "f46a283a",
   "metadata": {},
   "outputs": [
    {
     "data": {
      "text/plain": [
       "Cabin    687\n",
       "dtype: int64"
      ]
     },
     "execution_count": 5,
     "metadata": {},
     "output_type": "execute_result"
    }
   ],
   "source": [
    "# df.isnull().sum() returns a pandas series with columns name as the label index\n",
    "# and total count of null values in the column as it's value\n",
    "# And we are storing only those columns which have more than 35% of the data missing.\n",
    "\n",
    "drop_col = df.isnull().sum()[df.isnull().sum()>(35/100 * df.shape[0])]  \n",
    "\n",
    "drop_col"
   ]
  },
  {
   "cell_type": "code",
   "execution_count": 6,
   "id": "416860e0",
   "metadata": {},
   "outputs": [
    {
     "data": {
      "text/plain": [
       "Index(['Cabin'], dtype='object')"
      ]
     },
     "execution_count": 6,
     "metadata": {},
     "output_type": "execute_result"
    }
   ],
   "source": [
    "drop_col.index"
   ]
  },
  {
   "cell_type": "code",
   "execution_count": 7,
   "id": "0303ee70",
   "metadata": {},
   "outputs": [],
   "source": [
    "df.drop(drop_col.index, axis=1, inplace=True)"
   ]
  },
  {
   "cell_type": "code",
   "execution_count": 8,
   "id": "1c760297",
   "metadata": {},
   "outputs": [
    {
     "data": {
      "text/plain": [
       "PassengerId      0\n",
       "Survived         0\n",
       "Pclass           0\n",
       "Name             0\n",
       "Sex              0\n",
       "Age            177\n",
       "SibSp            0\n",
       "Parch            0\n",
       "Ticket           0\n",
       "Fare             0\n",
       "Embarked         2\n",
       "dtype: int64"
      ]
     },
     "execution_count": 8,
     "metadata": {},
     "output_type": "execute_result"
    }
   ],
   "source": [
    "df.isnull().sum()"
   ]
  },
  {
   "cell_type": "code",
   "execution_count": 9,
   "id": "bebda538",
   "metadata": {},
   "outputs": [
    {
     "data": {
      "text/plain": [
       "PassengerId    0\n",
       "Survived       0\n",
       "Pclass         0\n",
       "Name           0\n",
       "Sex            0\n",
       "Age            0\n",
       "SibSp          0\n",
       "Parch          0\n",
       "Ticket         0\n",
       "Fare           0\n",
       "Embarked       2\n",
       "dtype: int64"
      ]
     },
     "execution_count": 9,
     "metadata": {},
     "output_type": "execute_result"
    }
   ],
   "source": [
    "df.fillna(df.mean(), inplace = True)\n",
    "df.isnull().sum()"
   ]
  },
  {
   "cell_type": "code",
   "execution_count": 10,
   "id": "0a84cefe",
   "metadata": {},
   "outputs": [
    {
     "data": {
      "text/plain": [
       "count     889\n",
       "unique      3\n",
       "top         S\n",
       "freq      644\n",
       "Name: Embarked, dtype: object"
      ]
     },
     "execution_count": 10,
     "metadata": {},
     "output_type": "execute_result"
    }
   ],
   "source": [
    "df['Embarked'].describe()"
   ]
  },
  {
   "cell_type": "code",
   "execution_count": 11,
   "id": "06e77e98",
   "metadata": {},
   "outputs": [],
   "source": [
    "df['Embarked'].fillna('S',inplace=True)  "
   ]
  },
  {
   "cell_type": "code",
   "execution_count": 12,
   "id": "c174c37b",
   "metadata": {},
   "outputs": [
    {
     "data": {
      "text/plain": [
       "PassengerId    0\n",
       "Survived       0\n",
       "Pclass         0\n",
       "Name           0\n",
       "Sex            0\n",
       "Age            0\n",
       "SibSp          0\n",
       "Parch          0\n",
       "Ticket         0\n",
       "Fare           0\n",
       "Embarked       0\n",
       "dtype: int64"
      ]
     },
     "execution_count": 12,
     "metadata": {},
     "output_type": "execute_result"
    }
   ],
   "source": [
    "df.isnull().sum()          ## NOW ALL THE NULL  VALUES HAVE BEEN FILLED"
   ]
  },
  {
   "cell_type": "code",
   "execution_count": 13,
   "id": "85ac717b",
   "metadata": {},
   "outputs": [
    {
     "data": {
      "text/plain": [
       "<AxesSubplot:>"
      ]
     },
     "execution_count": 13,
     "metadata": {},
     "output_type": "execute_result"
    },
    {
     "data": {
      "image/png": "[encoded data removed]",
      "text/plain": [
       "<Figure size 432x288 with 2 Axes>"
      ]
     },
     "metadata": {
      "needs_background": "light"
     },
     "output_type": "display_data"
    }
   ],
   "source": [
    "import seaborn as sns\n",
    "import matplotlib.pyplot as plt\n",
    "\n",
    "sns.heatmap(df.corr(), annot = True, cmap=\"YlGnBu\", linecolor='black', linewidths=0.5)"
   ]
  },
  {
   "cell_type": "code",
   "execution_count": 14,
   "id": "8b5f7be8",
   "metadata": {},
   "outputs": [
    {
     "data": {
      "text/html": [
       "<div>\n",
       "<style scoped>\n",
       "    .dataframe tbody tr th:only-of-type {\n",
       "        vertical-align: middle;\n",
       "    }\n",
       "\n",
       "    .dataframe tbody tr th {\n",
       "        vertical-align: top;\n",
       "    }\n",
       "\n",
       "    .dataframe thead th {\n",
       "        text-align: right;\n",
       "    }\n",
       "</style>\n",
       "<table border=\"1\" class=\"dataframe\">\n",
       "  <thead>\n",
       "    <tr style=\"text-align: right;\">\n",
       "      <th></th>\n",
       "      <th>FamilySize</th>\n",
       "      <th>Survived</th>\n",
       "    </tr>\n",
       "  </thead>\n",
       "  <tbody>\n",
       "    <tr>\n",
       "      <th>FamilySize</th>\n",
       "      <td>1.000000</td>\n",
       "      <td>0.016639</td>\n",
       "    </tr>\n",
       "    <tr>\n",
       "      <th>Survived</th>\n",
       "      <td>0.016639</td>\n",
       "      <td>1.000000</td>\n",
       "    </tr>\n",
       "  </tbody>\n",
       "</table>\n",
       "</div>"
      ],
      "text/plain": [
       "            FamilySize  Survived\n",
       "FamilySize    1.000000  0.016639\n",
       "Survived      0.016639  1.000000"
      ]
     },
     "execution_count": 14,
     "metadata": {},
     "output_type": "execute_result"
    }
   ],
   "source": [
    "df['FamilySize'] = df['SibSp']+df['Parch']\n",
    "df.drop(['SibSp', 'Parch'], axis=1, inplace=True)\n",
    "df[['FamilySize', 'Survived']].corr()"
   ]
  },
  {
   "cell_type": "code",
   "execution_count": 15,
   "id": "d16df2dd",
   "metadata": {},
   "outputs": [
    {
     "data": {
      "text/html": [
       "<div>\n",
       "<style scoped>\n",
       "    .dataframe tbody tr th:only-of-type {\n",
       "        vertical-align: middle;\n",
       "    }\n",
       "\n",
       "    .dataframe tbody tr th {\n",
       "        vertical-align: top;\n",
       "    }\n",
       "\n",
       "    .dataframe thead th {\n",
       "        text-align: right;\n",
       "    }\n",
       "</style>\n",
       "<table border=\"1\" class=\"dataframe\">\n",
       "  <thead>\n",
       "    <tr style=\"text-align: right;\">\n",
       "      <th></th>\n",
       "      <th>PassengerId</th>\n",
       "      <th>Survived</th>\n",
       "      <th>Pclass</th>\n",
       "      <th>Name</th>\n",
       "      <th>Sex</th>\n",
       "      <th>Age</th>\n",
       "      <th>Ticket</th>\n",
       "      <th>Fare</th>\n",
       "      <th>Embarked</th>\n",
       "      <th>FamilySize</th>\n",
       "      <th>Alone</th>\n",
       "    </tr>\n",
       "  </thead>\n",
       "  <tbody>\n",
       "    <tr>\n",
       "      <th>0</th>\n",
       "      <td>1</td>\n",
       "      <td>0</td>\n",
       "      <td>3</td>\n",
       "      <td>Braund, Mr. Owen Harris</td>\n",
       "      <td>male</td>\n",
       "      <td>22.0</td>\n",
       "      <td>A/5 21171</td>\n",
       "      <td>7.2500</td>\n",
       "      <td>S</td>\n",
       "      <td>1</td>\n",
       "      <td>0</td>\n",
       "    </tr>\n",
       "    <tr>\n",
       "      <th>1</th>\n",
       "      <td>2</td>\n",
       "      <td>1</td>\n",
       "      <td>1</td>\n",
       "      <td>Cumings, Mrs. John Bradley (Florence Briggs Th...</td>\n",
       "      <td>female</td>\n",
       "      <td>38.0</td>\n",
       "      <td>PC 17599</td>\n",
       "      <td>71.2833</td>\n",
       "      <td>C</td>\n",
       "      <td>1</td>\n",
       "      <td>0</td>\n",
       "    </tr>\n",
       "    <tr>\n",
       "      <th>2</th>\n",
       "      <td>3</td>\n",
       "      <td>1</td>\n",
       "      <td>3</td>\n",
       "      <td>Heikkinen, Miss. Laina</td>\n",
       "      <td>female</td>\n",
       "      <td>26.0</td>\n",
       "      <td>STON/O2. 3101282</td>\n",
       "      <td>7.9250</td>\n",
       "      <td>S</td>\n",
       "      <td>0</td>\n",
       "      <td>1</td>\n",
       "    </tr>\n",
       "    <tr>\n",
       "      <th>3</th>\n",
       "      <td>4</td>\n",
       "      <td>1</td>\n",
       "      <td>1</td>\n",
       "      <td>Futrelle, Mrs. Jacques Heath (Lily May Peel)</td>\n",
       "      <td>female</td>\n",
       "      <td>35.0</td>\n",
       "      <td>113803</td>\n",
       "      <td>53.1000</td>\n",
       "      <td>S</td>\n",
       "      <td>1</td>\n",
       "      <td>0</td>\n",
       "    </tr>\n",
       "    <tr>\n",
       "      <th>4</th>\n",
       "      <td>5</td>\n",
       "      <td>0</td>\n",
       "      <td>3</td>\n",
       "      <td>Allen, Mr. William Henry</td>\n",
       "      <td>male</td>\n",
       "      <td>35.0</td>\n",
       "      <td>373450</td>\n",
       "      <td>8.0500</td>\n",
       "      <td>S</td>\n",
       "      <td>0</td>\n",
       "      <td>1</td>\n",
       "    </tr>\n",
       "  </tbody>\n",
       "</table>\n",
       "</div>"
      ],
      "text/plain": [
       "   PassengerId  Survived  Pclass  \\\n",
       "0            1         0       3   \n",
       "1            2         1       1   \n",
       "2            3         1       3   \n",
       "3            4         1       1   \n",
       "4            5         0       3   \n",
       "\n",
       "                                                Name     Sex   Age  \\\n",
       "0                            Braund, Mr. Owen Harris    male  22.0   \n",
       "1  Cumings, Mrs. John Bradley (Florence Briggs Th...  female  38.0   \n",
       "2                             Heikkinen, Miss. Laina  female  26.0   \n",
       "3       Futrelle, Mrs. Jacques Heath (Lily May Peel)  female  35.0   \n",
       "4                           Allen, Mr. William Henry    male  35.0   \n",
       "\n",
       "             Ticket     Fare Embarked  FamilySize  Alone  \n",
       "0         A/5 21171   7.2500        S           1      0  \n",
       "1          PC 17599  71.2833        C           1      0  \n",
       "2  STON/O2. 3101282   7.9250        S           0      1  \n",
       "3            113803  53.1000        S           1      0  \n",
       "4            373450   8.0500        S           0      1  "
      ]
     },
     "execution_count": 15,
     "metadata": {},
     "output_type": "execute_result"
    }
   ],
   "source": [
    "df['Alone'] = [0 if df['FamilySize'][i]>0 else 1 for i in df.index]\n",
    "df.head()"
   ]
  },
  {
   "cell_type": "code",
   "execution_count": 16,
   "id": "a0b584f9",
   "metadata": {
    "scrolled": true
   },
   "outputs": [
    {
     "data": {
      "text/plain": [
       "Alone\n",
       "0    0.505650\n",
       "1    0.303538\n",
       "Name: Survived, dtype: float64"
      ]
     },
     "execution_count": 16,
     "metadata": {},
     "output_type": "execute_result"
    }
   ],
   "source": [
    "df.groupby(['Alone'])['Survived'].mean()\n"
   ]
  },
  {
   "cell_type": "code",
   "execution_count": null,
   "id": "3531d587",
   "metadata": {},
   "outputs": [],
   "source": [
    "If the person is alone he/she has less chance of surviving.\n",
    "\n",
    "The reason might be the person who is traveling with his family might be belonging to rich class and might be prioritized \n",
    "over other."
   ]
  },
  {
   "cell_type": "code",
   "execution_count": 17,
   "id": "62bb01e4",
   "metadata": {},
   "outputs": [
    {
     "data": {
      "text/plain": [
       "Alone\n",
       "0    48.832275\n",
       "1    21.242689\n",
       "Name: Fare, dtype: float64"
      ]
     },
     "execution_count": 17,
     "metadata": {},
     "output_type": "execute_result"
    }
   ],
   "source": [
    "df.groupby('Alone')['Fare'].mean()\n"
   ]
  },
  {
   "cell_type": "markdown",
   "id": "6e81fb59",
   "metadata": {},
   "source": [
    "So we can see the person travelling with their family have higher average ticket price. Means the person with family have \n",
    "high chances of belonging to a rich family."
   ]
  },
  {
   "cell_type": "code",
   "execution_count": 18,
   "id": "98d6fd05",
   "metadata": {},
   "outputs": [
    {
     "data": {
      "text/plain": [
       "Sex\n",
       "0    0.188908\n",
       "1    0.742038\n",
       "Name: Survived, dtype: float64"
      ]
     },
     "execution_count": 18,
     "metadata": {},
     "output_type": "execute_result"
    }
   ],
   "source": [
    "df['Sex'] = [0 if df['Sex'][i]=='male' else 1 for i in df.index]  # 1 for female, 0 for male\n",
    "df.groupby(['Sex'])['Survived'].mean()"
   ]
  },
  {
   "cell_type": "code",
   "execution_count": 19,
   "id": "df6c0103",
   "metadata": {},
   "outputs": [
    {
     "data": {
      "text/plain": [
       "Embarked\n",
       "C    0.553571\n",
       "Q    0.389610\n",
       "S    0.339009\n",
       "Name: Survived, dtype: float64"
      ]
     },
     "execution_count": 19,
     "metadata": {},
     "output_type": "execute_result"
    }
   ],
   "source": [
    "df.groupby(['Embarked'])['Survived'].mean()"
   ]
  },
  {
   "cell_type": "code",
   "execution_count": 20,
   "id": "060eb941",
   "metadata": {},
   "outputs": [
    {
     "name": "stderr",
     "output_type": "stream",
     "text": [
      "C:\\Users\\Kanishka Pawar\\anaconda3\\lib\\site-packages\\seaborn\\_decorators.py:36: FutureWarning: Pass the following variables as keyword args: x, y. From version 0.12, the only valid positional argument will be `data`, and passing other arguments without an explicit keyword will result in an error or misinterpretation.\n",
      "  warnings.warn(\n"
     ]
    },
    {
     "data": {
      "text/plain": [
       "<seaborn.axisgrid.FacetGrid at 0x1f051415dc0>"
      ]
     },
     "execution_count": 20,
     "metadata": {},
     "output_type": "execute_result"
    },
    {
     "data": {
      "image/png": "[encoded data removed]",
      "text/plain": [
       "<Figure size 360x360 with 1 Axes>"
      ]
     },
     "metadata": {
      "needs_background": "light"
     },
     "output_type": "display_data"
    }
   ],
   "source": [
    "sns.lmplot('Age','Survived', data=df)"
   ]
  },
  {
   "cell_type": "code",
   "execution_count": 21,
   "id": "df896cd2",
   "metadata": {},
   "outputs": [
    {
     "data": {
      "text/plain": [
       "<AxesSubplot:xlabel='Sex', ylabel='Age'>"
      ]
     },
     "execution_count": 21,
     "metadata": {},
     "output_type": "execute_result"
    },
    {
     "data": {
      "image/png": "[encoded data removed]",
      "text/plain": [
       "<Figure size 432x288 with 1 Axes>"
      ]
     },
     "metadata": {
      "needs_background": "light"
     },
     "output_type": "display_data"
    }
   ],
   "source": [
    "sns.violinplot(x='Sex',y='Age', hue='Survived', data=df, split=True)"
   ]
  },
  {
   "cell_type": "code",
   "execution_count": 22,
   "id": "d322000a",
   "metadata": {},
   "outputs": [
    {
     "name": "stderr",
     "output_type": "stream",
     "text": [
      "C:\\Users\\Kanishka Pawar\\anaconda3\\lib\\site-packages\\seaborn\\_decorators.py:36: FutureWarning: Pass the following variables as keyword args: x, y. From version 0.12, the only valid positional argument will be `data`, and passing other arguments without an explicit keyword will result in an error or misinterpretation.\n",
      "  warnings.warn(\n"
     ]
    },
    {
     "data": {
      "text/plain": [
       "<seaborn.axisgrid.FacetGrid at 0x1f0515add30>"
      ]
     },
     "execution_count": 22,
     "metadata": {},
     "output_type": "execute_result"
    },
    {
     "data": {
      "image/png": "[encoded data removed]",
      "text/plain": [
       "<Figure size 360x360 with 1 Axes>"
      ]
     },
     "metadata": {
      "needs_background": "light"
     },
     "output_type": "display_data"
    }
   ],
   "source": [
    "sns.lmplot('Fare','Survived', data=df)"
   ]
  },
  {
   "cell_type": "markdown",
   "id": "a6fb2270",
   "metadata": {},
   "source": [
    "# CONCLUSION\n",
    "Female passengers were prioritized over men.\n",
    "People with high class or rich people have higher survivl rate than others. The hierarichy might have been followed while saving the passangers.\n",
    "Passengers travelling with their family have higher survival rate.\n",
    "Passengers who borded the ship at Cherbourg, survived more in proportion then the others."
   ]
  },
  {
   "cell_type": "code",
   "execution_count": 23,
   "id": "06b2f3fc",
   "metadata": {
    "scrolled": true
   },
   "outputs": [
    {
     "data": {
      "text/html": [
       "<div>\n",
       "<style scoped>\n",
       "    .dataframe tbody tr th:only-of-type {\n",
       "        vertical-align: middle;\n",
       "    }\n",
       "\n",
       "    .dataframe tbody tr th {\n",
       "        vertical-align: top;\n",
       "    }\n",
       "\n",
       "    .dataframe thead th {\n",
       "        text-align: right;\n",
       "    }\n",
       "</style>\n",
       "<table border=\"1\" class=\"dataframe\">\n",
       "  <thead>\n",
       "    <tr style=\"text-align: right;\">\n",
       "      <th></th>\n",
       "      <th>PassengerId</th>\n",
       "      <th>Survived</th>\n",
       "      <th>Pclass</th>\n",
       "      <th>Name</th>\n",
       "      <th>Sex</th>\n",
       "      <th>Age</th>\n",
       "      <th>Ticket</th>\n",
       "      <th>Fare</th>\n",
       "      <th>Embarked</th>\n",
       "      <th>FamilySize</th>\n",
       "      <th>Alone</th>\n",
       "    </tr>\n",
       "  </thead>\n",
       "  <tbody>\n",
       "    <tr>\n",
       "      <th>0</th>\n",
       "      <td>1</td>\n",
       "      <td>0</td>\n",
       "      <td>3</td>\n",
       "      <td>Braund, Mr. Owen Harris</td>\n",
       "      <td>0</td>\n",
       "      <td>22.0</td>\n",
       "      <td>A/5 21171</td>\n",
       "      <td>7.2500</td>\n",
       "      <td>S</td>\n",
       "      <td>1</td>\n",
       "      <td>0</td>\n",
       "    </tr>\n",
       "    <tr>\n",
       "      <th>1</th>\n",
       "      <td>2</td>\n",
       "      <td>1</td>\n",
       "      <td>1</td>\n",
       "      <td>Cumings, Mrs. John Bradley (Florence Briggs Th...</td>\n",
       "      <td>1</td>\n",
       "      <td>38.0</td>\n",
       "      <td>PC 17599</td>\n",
       "      <td>71.2833</td>\n",
       "      <td>C</td>\n",
       "      <td>1</td>\n",
       "      <td>0</td>\n",
       "    </tr>\n",
       "    <tr>\n",
       "      <th>2</th>\n",
       "      <td>3</td>\n",
       "      <td>1</td>\n",
       "      <td>3</td>\n",
       "      <td>Heikkinen, Miss. Laina</td>\n",
       "      <td>1</td>\n",
       "      <td>26.0</td>\n",
       "      <td>STON/O2. 3101282</td>\n",
       "      <td>7.9250</td>\n",
       "      <td>S</td>\n",
       "      <td>0</td>\n",
       "      <td>1</td>\n",
       "    </tr>\n",
       "    <tr>\n",
       "      <th>3</th>\n",
       "      <td>4</td>\n",
       "      <td>1</td>\n",
       "      <td>1</td>\n",
       "      <td>Futrelle, Mrs. Jacques Heath (Lily May Peel)</td>\n",
       "      <td>1</td>\n",
       "      <td>35.0</td>\n",
       "      <td>113803</td>\n",
       "      <td>53.1000</td>\n",
       "      <td>S</td>\n",
       "      <td>1</td>\n",
       "      <td>0</td>\n",
       "    </tr>\n",
       "    <tr>\n",
       "      <th>4</th>\n",
       "      <td>5</td>\n",
       "      <td>0</td>\n",
       "      <td>3</td>\n",
       "      <td>Allen, Mr. William Henry</td>\n",
       "      <td>0</td>\n",
       "      <td>35.0</td>\n",
       "      <td>373450</td>\n",
       "      <td>8.0500</td>\n",
       "      <td>S</td>\n",
       "      <td>0</td>\n",
       "      <td>1</td>\n",
       "    </tr>\n",
       "  </tbody>\n",
       "</table>\n",
       "</div>"
      ],
      "text/plain": [
       "   PassengerId  Survived  Pclass  \\\n",
       "0            1         0       3   \n",
       "1            2         1       1   \n",
       "2            3         1       3   \n",
       "3            4         1       1   \n",
       "4            5         0       3   \n",
       "\n",
       "                                                Name  Sex   Age  \\\n",
       "0                            Braund, Mr. Owen Harris    0  22.0   \n",
       "1  Cumings, Mrs. John Bradley (Florence Briggs Th...    1  38.0   \n",
       "2                             Heikkinen, Miss. Laina    1  26.0   \n",
       "3       Futrelle, Mrs. Jacques Heath (Lily May Peel)    1  35.0   \n",
       "4                           Allen, Mr. William Henry    0  35.0   \n",
       "\n",
       "             Ticket     Fare Embarked  FamilySize  Alone  \n",
       "0         A/5 21171   7.2500        S           1      0  \n",
       "1          PC 17599  71.2833        C           1      0  \n",
       "2  STON/O2. 3101282   7.9250        S           0      1  \n",
       "3            113803  53.1000        S           1      0  \n",
       "4            373450   8.0500        S           0      1  "
      ]
     },
     "execution_count": 23,
     "metadata": {},
     "output_type": "execute_result"
    }
   ],
   "source": [
    "df.head()"
   ]
  },
  {
   "cell_type": "code",
   "execution_count": 24,
   "id": "f341eae2",
   "metadata": {},
   "outputs": [],
   "source": [
    "df.drop(['Ticket', 'FamilySize', 'Name'], axis = 1, inplace=True)"
   ]
  },
  {
   "cell_type": "code",
   "execution_count": 25,
   "id": "8ba2b7ed",
   "metadata": {},
   "outputs": [
    {
     "data": {
      "text/html": [
       "<div>\n",
       "<style scoped>\n",
       "    .dataframe tbody tr th:only-of-type {\n",
       "        vertical-align: middle;\n",
       "    }\n",
       "\n",
       "    .dataframe tbody tr th {\n",
       "        vertical-align: top;\n",
       "    }\n",
       "\n",
       "    .dataframe thead th {\n",
       "        text-align: right;\n",
       "    }\n",
       "</style>\n",
       "<table border=\"1\" class=\"dataframe\">\n",
       "  <thead>\n",
       "    <tr style=\"text-align: right;\">\n",
       "      <th></th>\n",
       "      <th>PassengerId</th>\n",
       "      <th>Survived</th>\n",
       "      <th>Pclass</th>\n",
       "      <th>Sex</th>\n",
       "      <th>Age</th>\n",
       "      <th>Fare</th>\n",
       "      <th>Embarked</th>\n",
       "      <th>Alone</th>\n",
       "    </tr>\n",
       "  </thead>\n",
       "  <tbody>\n",
       "    <tr>\n",
       "      <th>0</th>\n",
       "      <td>1</td>\n",
       "      <td>0</td>\n",
       "      <td>3</td>\n",
       "      <td>0</td>\n",
       "      <td>22.0</td>\n",
       "      <td>7.2500</td>\n",
       "      <td>S</td>\n",
       "      <td>0</td>\n",
       "    </tr>\n",
       "    <tr>\n",
       "      <th>1</th>\n",
       "      <td>2</td>\n",
       "      <td>1</td>\n",
       "      <td>1</td>\n",
       "      <td>1</td>\n",
       "      <td>38.0</td>\n",
       "      <td>71.2833</td>\n",
       "      <td>C</td>\n",
       "      <td>0</td>\n",
       "    </tr>\n",
       "    <tr>\n",
       "      <th>2</th>\n",
       "      <td>3</td>\n",
       "      <td>1</td>\n",
       "      <td>3</td>\n",
       "      <td>1</td>\n",
       "      <td>26.0</td>\n",
       "      <td>7.9250</td>\n",
       "      <td>S</td>\n",
       "      <td>1</td>\n",
       "    </tr>\n",
       "    <tr>\n",
       "      <th>3</th>\n",
       "      <td>4</td>\n",
       "      <td>1</td>\n",
       "      <td>1</td>\n",
       "      <td>1</td>\n",
       "      <td>35.0</td>\n",
       "      <td>53.1000</td>\n",
       "      <td>S</td>\n",
       "      <td>0</td>\n",
       "    </tr>\n",
       "    <tr>\n",
       "      <th>4</th>\n",
       "      <td>5</td>\n",
       "      <td>0</td>\n",
       "      <td>3</td>\n",
       "      <td>0</td>\n",
       "      <td>35.0</td>\n",
       "      <td>8.0500</td>\n",
       "      <td>S</td>\n",
       "      <td>1</td>\n",
       "    </tr>\n",
       "  </tbody>\n",
       "</table>\n",
       "</div>"
      ],
      "text/plain": [
       "   PassengerId  Survived  Pclass  Sex   Age     Fare Embarked  Alone\n",
       "0            1         0       3    0  22.0   7.2500        S      0\n",
       "1            2         1       1    1  38.0  71.2833        C      0\n",
       "2            3         1       3    1  26.0   7.9250        S      1\n",
       "3            4         1       1    1  35.0  53.1000        S      0\n",
       "4            5         0       3    0  35.0   8.0500        S      1"
      ]
     },
     "execution_count": 25,
     "metadata": {},
     "output_type": "execute_result"
    }
   ],
   "source": [
    "df.head()"
   ]
  },
  {
   "cell_type": "code",
   "execution_count": 27,
   "id": "293ede48",
   "metadata": {},
   "outputs": [],
   "source": [
    "new_df=pd.get_dummies(df, prefix_sep='_', columns=['Embarked']) #this will create dumies as shown below"
   ]
  },
  {
   "cell_type": "code",
   "execution_count": 28,
   "id": "122d227b",
   "metadata": {},
   "outputs": [
    {
     "data": {
      "text/html": [
       "<div>\n",
       "<style scoped>\n",
       "    .dataframe tbody tr th:only-of-type {\n",
       "        vertical-align: middle;\n",
       "    }\n",
       "\n",
       "    .dataframe tbody tr th {\n",
       "        vertical-align: top;\n",
       "    }\n",
       "\n",
       "    .dataframe thead th {\n",
       "        text-align: right;\n",
       "    }\n",
       "</style>\n",
       "<table border=\"1\" class=\"dataframe\">\n",
       "  <thead>\n",
       "    <tr style=\"text-align: right;\">\n",
       "      <th></th>\n",
       "      <th>PassengerId</th>\n",
       "      <th>Survived</th>\n",
       "      <th>Pclass</th>\n",
       "      <th>Sex</th>\n",
       "      <th>Age</th>\n",
       "      <th>Fare</th>\n",
       "      <th>Alone</th>\n",
       "      <th>Embarked_C</th>\n",
       "      <th>Embarked_Q</th>\n",
       "      <th>Embarked_S</th>\n",
       "    </tr>\n",
       "  </thead>\n",
       "  <tbody>\n",
       "    <tr>\n",
       "      <th>0</th>\n",
       "      <td>1</td>\n",
       "      <td>0</td>\n",
       "      <td>3</td>\n",
       "      <td>0</td>\n",
       "      <td>22.000000</td>\n",
       "      <td>7.2500</td>\n",
       "      <td>0</td>\n",
       "      <td>0</td>\n",
       "      <td>0</td>\n",
       "      <td>1</td>\n",
       "    </tr>\n",
       "    <tr>\n",
       "      <th>1</th>\n",
       "      <td>2</td>\n",
       "      <td>1</td>\n",
       "      <td>1</td>\n",
       "      <td>1</td>\n",
       "      <td>38.000000</td>\n",
       "      <td>71.2833</td>\n",
       "      <td>0</td>\n",
       "      <td>1</td>\n",
       "      <td>0</td>\n",
       "      <td>0</td>\n",
       "    </tr>\n",
       "    <tr>\n",
       "      <th>2</th>\n",
       "      <td>3</td>\n",
       "      <td>1</td>\n",
       "      <td>3</td>\n",
       "      <td>1</td>\n",
       "      <td>26.000000</td>\n",
       "      <td>7.9250</td>\n",
       "      <td>1</td>\n",
       "      <td>0</td>\n",
       "      <td>0</td>\n",
       "      <td>1</td>\n",
       "    </tr>\n",
       "    <tr>\n",
       "      <th>3</th>\n",
       "      <td>4</td>\n",
       "      <td>1</td>\n",
       "      <td>1</td>\n",
       "      <td>1</td>\n",
       "      <td>35.000000</td>\n",
       "      <td>53.1000</td>\n",
       "      <td>0</td>\n",
       "      <td>0</td>\n",
       "      <td>0</td>\n",
       "      <td>1</td>\n",
       "    </tr>\n",
       "    <tr>\n",
       "      <th>4</th>\n",
       "      <td>5</td>\n",
       "      <td>0</td>\n",
       "      <td>3</td>\n",
       "      <td>0</td>\n",
       "      <td>35.000000</td>\n",
       "      <td>8.0500</td>\n",
       "      <td>1</td>\n",
       "      <td>0</td>\n",
       "      <td>0</td>\n",
       "      <td>1</td>\n",
       "    </tr>\n",
       "    <tr>\n",
       "      <th>...</th>\n",
       "      <td>...</td>\n",
       "      <td>...</td>\n",
       "      <td>...</td>\n",
       "      <td>...</td>\n",
       "      <td>...</td>\n",
       "      <td>...</td>\n",
       "      <td>...</td>\n",
       "      <td>...</td>\n",
       "      <td>...</td>\n",
       "      <td>...</td>\n",
       "    </tr>\n",
       "    <tr>\n",
       "      <th>886</th>\n",
       "      <td>887</td>\n",
       "      <td>0</td>\n",
       "      <td>2</td>\n",
       "      <td>0</td>\n",
       "      <td>27.000000</td>\n",
       "      <td>13.0000</td>\n",
       "      <td>1</td>\n",
       "      <td>0</td>\n",
       "      <td>0</td>\n",
       "      <td>1</td>\n",
       "    </tr>\n",
       "    <tr>\n",
       "      <th>887</th>\n",
       "      <td>888</td>\n",
       "      <td>1</td>\n",
       "      <td>1</td>\n",
       "      <td>1</td>\n",
       "      <td>19.000000</td>\n",
       "      <td>30.0000</td>\n",
       "      <td>1</td>\n",
       "      <td>0</td>\n",
       "      <td>0</td>\n",
       "      <td>1</td>\n",
       "    </tr>\n",
       "    <tr>\n",
       "      <th>888</th>\n",
       "      <td>889</td>\n",
       "      <td>0</td>\n",
       "      <td>3</td>\n",
       "      <td>1</td>\n",
       "      <td>29.699118</td>\n",
       "      <td>23.4500</td>\n",
       "      <td>0</td>\n",
       "      <td>0</td>\n",
       "      <td>0</td>\n",
       "      <td>1</td>\n",
       "    </tr>\n",
       "    <tr>\n",
       "      <th>889</th>\n",
       "      <td>890</td>\n",
       "      <td>1</td>\n",
       "      <td>1</td>\n",
       "      <td>0</td>\n",
       "      <td>26.000000</td>\n",
       "      <td>30.0000</td>\n",
       "      <td>1</td>\n",
       "      <td>1</td>\n",
       "      <td>0</td>\n",
       "      <td>0</td>\n",
       "    </tr>\n",
       "    <tr>\n",
       "      <th>890</th>\n",
       "      <td>891</td>\n",
       "      <td>0</td>\n",
       "      <td>3</td>\n",
       "      <td>0</td>\n",
       "      <td>32.000000</td>\n",
       "      <td>7.7500</td>\n",
       "      <td>1</td>\n",
       "      <td>0</td>\n",
       "      <td>1</td>\n",
       "      <td>0</td>\n",
       "    </tr>\n",
       "  </tbody>\n",
       "</table>\n",
       "<p>891 rows × 10 columns</p>\n",
       "</div>"
      ],
      "text/plain": [
       "     PassengerId  Survived  Pclass  Sex        Age     Fare  Alone  \\\n",
       "0              1         0       3    0  22.000000   7.2500      0   \n",
       "1              2         1       1    1  38.000000  71.2833      0   \n",
       "2              3         1       3    1  26.000000   7.9250      1   \n",
       "3              4         1       1    1  35.000000  53.1000      0   \n",
       "4              5         0       3    0  35.000000   8.0500      1   \n",
       "..           ...       ...     ...  ...        ...      ...    ...   \n",
       "886          887         0       2    0  27.000000  13.0000      1   \n",
       "887          888         1       1    1  19.000000  30.0000      1   \n",
       "888          889         0       3    1  29.699118  23.4500      0   \n",
       "889          890         1       1    0  26.000000  30.0000      1   \n",
       "890          891         0       3    0  32.000000   7.7500      1   \n",
       "\n",
       "     Embarked_C  Embarked_Q  Embarked_S  \n",
       "0             0           0           1  \n",
       "1             1           0           0  \n",
       "2             0           0           1  \n",
       "3             0           0           1  \n",
       "4             0           0           1  \n",
       "..          ...         ...         ...  \n",
       "886           0           0           1  \n",
       "887           0           0           1  \n",
       "888           0           0           1  \n",
       "889           1           0           0  \n",
       "890           0           1           0  \n",
       "\n",
       "[891 rows x 10 columns]"
      ]
     },
     "execution_count": 28,
     "metadata": {},
     "output_type": "execute_result"
    }
   ],
   "source": [
    "new_df"
   ]
  },
  {
   "cell_type": "code",
   "execution_count": 29,
   "id": "ac5843de",
   "metadata": {},
   "outputs": [],
   "source": [
    "new_df.drop('PassengerId',axis=1, inplace=True)"
   ]
  },
  {
   "cell_type": "code",
   "execution_count": 30,
   "id": "071ede36",
   "metadata": {},
   "outputs": [
    {
     "data": {
      "text/html": [
       "<div>\n",
       "<style scoped>\n",
       "    .dataframe tbody tr th:only-of-type {\n",
       "        vertical-align: middle;\n",
       "    }\n",
       "\n",
       "    .dataframe tbody tr th {\n",
       "        vertical-align: top;\n",
       "    }\n",
       "\n",
       "    .dataframe thead th {\n",
       "        text-align: right;\n",
       "    }\n",
       "</style>\n",
       "<table border=\"1\" class=\"dataframe\">\n",
       "  <thead>\n",
       "    <tr style=\"text-align: right;\">\n",
       "      <th></th>\n",
       "      <th>Survived</th>\n",
       "      <th>Pclass</th>\n",
       "      <th>Sex</th>\n",
       "      <th>Age</th>\n",
       "      <th>Fare</th>\n",
       "      <th>Alone</th>\n",
       "      <th>Embarked_C</th>\n",
       "      <th>Embarked_Q</th>\n",
       "      <th>Embarked_S</th>\n",
       "    </tr>\n",
       "  </thead>\n",
       "  <tbody>\n",
       "    <tr>\n",
       "      <th>0</th>\n",
       "      <td>0</td>\n",
       "      <td>3</td>\n",
       "      <td>0</td>\n",
       "      <td>22.0</td>\n",
       "      <td>7.2500</td>\n",
       "      <td>0</td>\n",
       "      <td>0</td>\n",
       "      <td>0</td>\n",
       "      <td>1</td>\n",
       "    </tr>\n",
       "    <tr>\n",
       "      <th>1</th>\n",
       "      <td>1</td>\n",
       "      <td>1</td>\n",
       "      <td>1</td>\n",
       "      <td>38.0</td>\n",
       "      <td>71.2833</td>\n",
       "      <td>0</td>\n",
       "      <td>1</td>\n",
       "      <td>0</td>\n",
       "      <td>0</td>\n",
       "    </tr>\n",
       "    <tr>\n",
       "      <th>2</th>\n",
       "      <td>1</td>\n",
       "      <td>3</td>\n",
       "      <td>1</td>\n",
       "      <td>26.0</td>\n",
       "      <td>7.9250</td>\n",
       "      <td>1</td>\n",
       "      <td>0</td>\n",
       "      <td>0</td>\n",
       "      <td>1</td>\n",
       "    </tr>\n",
       "    <tr>\n",
       "      <th>3</th>\n",
       "      <td>1</td>\n",
       "      <td>1</td>\n",
       "      <td>1</td>\n",
       "      <td>35.0</td>\n",
       "      <td>53.1000</td>\n",
       "      <td>0</td>\n",
       "      <td>0</td>\n",
       "      <td>0</td>\n",
       "      <td>1</td>\n",
       "    </tr>\n",
       "    <tr>\n",
       "      <th>4</th>\n",
       "      <td>0</td>\n",
       "      <td>3</td>\n",
       "      <td>0</td>\n",
       "      <td>35.0</td>\n",
       "      <td>8.0500</td>\n",
       "      <td>1</td>\n",
       "      <td>0</td>\n",
       "      <td>0</td>\n",
       "      <td>1</td>\n",
       "    </tr>\n",
       "  </tbody>\n",
       "</table>\n",
       "</div>"
      ],
      "text/plain": [
       "   Survived  Pclass  Sex   Age     Fare  Alone  Embarked_C  Embarked_Q  \\\n",
       "0         0       3    0  22.0   7.2500      0           0           0   \n",
       "1         1       1    1  38.0  71.2833      0           1           0   \n",
       "2         1       3    1  26.0   7.9250      1           0           0   \n",
       "3         1       1    1  35.0  53.1000      0           0           0   \n",
       "4         0       3    0  35.0   8.0500      1           0           0   \n",
       "\n",
       "   Embarked_S  \n",
       "0           1  \n",
       "1           0  \n",
       "2           1  \n",
       "3           1  \n",
       "4           1  "
      ]
     },
     "execution_count": 30,
     "metadata": {},
     "output_type": "execute_result"
    }
   ],
   "source": [
    "new_df.head()"
   ]
  },
  {
   "cell_type": "code",
   "execution_count": 31,
   "id": "fa61442a",
   "metadata": {},
   "outputs": [],
   "source": [
    "## Splitting the tranformed data into test-train data\n",
    "\n",
    "from sklearn.model_selection import train_test_split\n",
    "X = new_df.drop('Survived', axis=1)\n",
    "y = new_df['Survived']\n",
    "X_train, X_test, y_train, y_test = train_test_split(X, y, test_size=0.30, random_state=5)"
   ]
  },
  {
   "cell_type": "code",
   "execution_count": 32,
   "id": "b3c1e58a",
   "metadata": {},
   "outputs": [
    {
     "data": {
      "text/plain": [
       "GaussianNB()"
      ]
     },
     "execution_count": 32,
     "metadata": {},
     "output_type": "execute_result"
    }
   ],
   "source": [
    "## Fitting GaussianNB model on the  training set\n",
    "\n",
    "gnb = GaussianNB()\n",
    "gnb.fit(X_train, y_train)"
   ]
  },
  {
   "cell_type": "code",
   "execution_count": 33,
   "id": "ee78cf43",
   "metadata": {},
   "outputs": [],
   "source": [
    "## Predicting results for test dataset\n",
    "y_pred=gnb.predict(X_test)"
   ]
  },
  {
   "cell_type": "code",
   "execution_count": 34,
   "id": "746f11d5",
   "metadata": {},
   "outputs": [
    {
     "data": {
      "text/plain": [
       "0.7649253731343284"
      ]
     },
     "execution_count": 34,
     "metadata": {},
     "output_type": "execute_result"
    }
   ],
   "source": [
    "from sklearn.metrics import accuracy_score\n",
    "accuracy_score(y_pred,y_test)"
   ]
  },
  {
   "cell_type": "code",
   "execution_count": 35,
   "id": "3c37d296",
   "metadata": {},
   "outputs": [
    {
     "name": "stdout",
     "output_type": "stream",
     "text": [
      "0.8097014925373134\n"
     ]
    }
   ],
   "source": [
    "from sklearn.ensemble import RandomForestClassifier\n",
    "from sklearn.datasets import make_classification\n",
    "clf = RandomForestClassifier(n_estimators=200)\n",
    "clf.fit(X_train, y_train)\n",
    "y_pred=clf.predict(X_test)\n",
    "print(accuracy_score(y_pred,y_test))"
   ]
  },
  {
   "cell_type": "code",
   "execution_count": 36,
   "id": "2bb4a34f",
   "metadata": {},
   "outputs": [
    {
     "data": {
      "text/plain": [
       "[DecisionTreeClassifier(max_features='auto', random_state=1869390670),\n",
       " DecisionTreeClassifier(max_features='auto', random_state=1468201109),\n",
       " DecisionTreeClassifier(max_features='auto', random_state=830007184),\n",
       " DecisionTreeClassifier(max_features='auto', random_state=1205984591),\n",
       " DecisionTreeClassifier(max_features='auto', random_state=1911665131),\n",
       " DecisionTreeClassifier(max_features='auto', random_state=791884243),\n",
       " DecisionTreeClassifier(max_features='auto', random_state=1961136497),\n",
       " DecisionTreeClassifier(max_features='auto', random_state=1256886260),\n",
       " DecisionTreeClassifier(max_features='auto', random_state=2102305818),\n",
       " DecisionTreeClassifier(max_features='auto', random_state=535892465),\n",
       " DecisionTreeClassifier(max_features='auto', random_state=34572910),\n",
       " DecisionTreeClassifier(max_features='auto', random_state=1216656770),\n",
       " DecisionTreeClassifier(max_features='auto', random_state=1033402769),\n",
       " DecisionTreeClassifier(max_features='auto', random_state=598111607),\n",
       " DecisionTreeClassifier(max_features='auto', random_state=904005022),\n",
       " DecisionTreeClassifier(max_features='auto', random_state=536402138),\n",
       " DecisionTreeClassifier(max_features='auto', random_state=1266809917),\n",
       " DecisionTreeClassifier(max_features='auto', random_state=503805172),\n",
       " DecisionTreeClassifier(max_features='auto', random_state=238698691),\n",
       " DecisionTreeClassifier(max_features='auto', random_state=580379669),\n",
       " DecisionTreeClassifier(max_features='auto', random_state=949933965),\n",
       " DecisionTreeClassifier(max_features='auto', random_state=87203652),\n",
       " DecisionTreeClassifier(max_features='auto', random_state=1100526289),\n",
       " DecisionTreeClassifier(max_features='auto', random_state=2010769799),\n",
       " DecisionTreeClassifier(max_features='auto', random_state=2023904026),\n",
       " DecisionTreeClassifier(max_features='auto', random_state=279631766),\n",
       " DecisionTreeClassifier(max_features='auto', random_state=1093777525),\n",
       " DecisionTreeClassifier(max_features='auto', random_state=527619047),\n",
       " DecisionTreeClassifier(max_features='auto', random_state=1164865787),\n",
       " DecisionTreeClassifier(max_features='auto', random_state=1474800133),\n",
       " DecisionTreeClassifier(max_features='auto', random_state=535739810),\n",
       " DecisionTreeClassifier(max_features='auto', random_state=1120559117),\n",
       " DecisionTreeClassifier(max_features='auto', random_state=775386681),\n",
       " DecisionTreeClassifier(max_features='auto', random_state=672325367),\n",
       " DecisionTreeClassifier(max_features='auto', random_state=154448180),\n",
       " DecisionTreeClassifier(max_features='auto', random_state=121690967),\n",
       " DecisionTreeClassifier(max_features='auto', random_state=401461834),\n",
       " DecisionTreeClassifier(max_features='auto', random_state=1524158405),\n",
       " DecisionTreeClassifier(max_features='auto', random_state=698769339),\n",
       " DecisionTreeClassifier(max_features='auto', random_state=1945993560),\n",
       " DecisionTreeClassifier(max_features='auto', random_state=975703493),\n",
       " DecisionTreeClassifier(max_features='auto', random_state=198266563),\n",
       " DecisionTreeClassifier(max_features='auto', random_state=2117412924),\n",
       " DecisionTreeClassifier(max_features='auto', random_state=165377774),\n",
       " DecisionTreeClassifier(max_features='auto', random_state=1657122089),\n",
       " DecisionTreeClassifier(max_features='auto', random_state=903343135),\n",
       " DecisionTreeClassifier(max_features='auto', random_state=1366183784),\n",
       " DecisionTreeClassifier(max_features='auto', random_state=1962304162),\n",
       " DecisionTreeClassifier(max_features='auto', random_state=1178078324),\n",
       " DecisionTreeClassifier(max_features='auto', random_state=171098236),\n",
       " DecisionTreeClassifier(max_features='auto', random_state=1103773968),\n",
       " DecisionTreeClassifier(max_features='auto', random_state=767181138),\n",
       " DecisionTreeClassifier(max_features='auto', random_state=473863992),\n",
       " DecisionTreeClassifier(max_features='auto', random_state=748249788),\n",
       " DecisionTreeClassifier(max_features='auto', random_state=217456108),\n",
       " DecisionTreeClassifier(max_features='auto', random_state=1457825887),\n",
       " DecisionTreeClassifier(max_features='auto', random_state=489911804),\n",
       " DecisionTreeClassifier(max_features='auto', random_state=689944017),\n",
       " DecisionTreeClassifier(max_features='auto', random_state=393516382),\n",
       " DecisionTreeClassifier(max_features='auto', random_state=1898131860),\n",
       " DecisionTreeClassifier(max_features='auto', random_state=1566811015),\n",
       " DecisionTreeClassifier(max_features='auto', random_state=1229557064),\n",
       " DecisionTreeClassifier(max_features='auto', random_state=1334007080),\n",
       " DecisionTreeClassifier(max_features='auto', random_state=151842437),\n",
       " DecisionTreeClassifier(max_features='auto', random_state=1618906346),\n",
       " DecisionTreeClassifier(max_features='auto', random_state=1135121902),\n",
       " DecisionTreeClassifier(max_features='auto', random_state=17982988),\n",
       " DecisionTreeClassifier(max_features='auto', random_state=1469396530),\n",
       " DecisionTreeClassifier(max_features='auto', random_state=1503708428),\n",
       " DecisionTreeClassifier(max_features='auto', random_state=1597689092),\n",
       " DecisionTreeClassifier(max_features='auto', random_state=1218321304),\n",
       " DecisionTreeClassifier(max_features='auto', random_state=256086144),\n",
       " DecisionTreeClassifier(max_features='auto', random_state=270353444),\n",
       " DecisionTreeClassifier(max_features='auto', random_state=2116027134),\n",
       " DecisionTreeClassifier(max_features='auto', random_state=24349191),\n",
       " DecisionTreeClassifier(max_features='auto', random_state=1886603458),\n",
       " DecisionTreeClassifier(max_features='auto', random_state=698523514),\n",
       " DecisionTreeClassifier(max_features='auto', random_state=1103619049),\n",
       " DecisionTreeClassifier(max_features='auto', random_state=1549023466),\n",
       " DecisionTreeClassifier(max_features='auto', random_state=719058018),\n",
       " DecisionTreeClassifier(max_features='auto', random_state=898542167),\n",
       " DecisionTreeClassifier(max_features='auto', random_state=121646284),\n",
       " DecisionTreeClassifier(max_features='auto', random_state=1353193786),\n",
       " DecisionTreeClassifier(max_features='auto', random_state=2118132734),\n",
       " DecisionTreeClassifier(max_features='auto', random_state=1038740176),\n",
       " DecisionTreeClassifier(max_features='auto', random_state=2030170690),\n",
       " DecisionTreeClassifier(max_features='auto', random_state=1124521842),\n",
       " DecisionTreeClassifier(max_features='auto', random_state=1279684193),\n",
       " DecisionTreeClassifier(max_features='auto', random_state=146505354),\n",
       " DecisionTreeClassifier(max_features='auto', random_state=230524323),\n",
       " DecisionTreeClassifier(max_features='auto', random_state=347215535),\n",
       " DecisionTreeClassifier(max_features='auto', random_state=972525683),\n",
       " DecisionTreeClassifier(max_features='auto', random_state=414005768),\n",
       " DecisionTreeClassifier(max_features='auto', random_state=510610337),\n",
       " DecisionTreeClassifier(max_features='auto', random_state=1896099774),\n",
       " DecisionTreeClassifier(max_features='auto', random_state=1529002863),\n",
       " DecisionTreeClassifier(max_features='auto', random_state=2039764524),\n",
       " DecisionTreeClassifier(max_features='auto', random_state=1249747567),\n",
       " DecisionTreeClassifier(max_features='auto', random_state=30031874),\n",
       " DecisionTreeClassifier(max_features='auto', random_state=1404641244),\n",
       " DecisionTreeClassifier(max_features='auto', random_state=2001375320),\n",
       " DecisionTreeClassifier(max_features='auto', random_state=810614197),\n",
       " DecisionTreeClassifier(max_features='auto', random_state=730623711),\n",
       " DecisionTreeClassifier(max_features='auto', random_state=934441944),\n",
       " DecisionTreeClassifier(max_features='auto', random_state=317196264),\n",
       " DecisionTreeClassifier(max_features='auto', random_state=282553515),\n",
       " DecisionTreeClassifier(max_features='auto', random_state=2016184738),\n",
       " DecisionTreeClassifier(max_features='auto', random_state=1854522685),\n",
       " DecisionTreeClassifier(max_features='auto', random_state=26629761),\n",
       " DecisionTreeClassifier(max_features='auto', random_state=2097817846),\n",
       " DecisionTreeClassifier(max_features='auto', random_state=211276806),\n",
       " DecisionTreeClassifier(max_features='auto', random_state=433027689),\n",
       " DecisionTreeClassifier(max_features='auto', random_state=2097872415),\n",
       " DecisionTreeClassifier(max_features='auto', random_state=1678372833),\n",
       " DecisionTreeClassifier(max_features='auto', random_state=2027946315),\n",
       " DecisionTreeClassifier(max_features='auto', random_state=18819019),\n",
       " DecisionTreeClassifier(max_features='auto', random_state=2134927137),\n",
       " DecisionTreeClassifier(max_features='auto', random_state=1689942998),\n",
       " DecisionTreeClassifier(max_features='auto', random_state=864365275),\n",
       " DecisionTreeClassifier(max_features='auto', random_state=1474988337),\n",
       " DecisionTreeClassifier(max_features='auto', random_state=641242794),\n",
       " DecisionTreeClassifier(max_features='auto', random_state=1890675848),\n",
       " DecisionTreeClassifier(max_features='auto', random_state=460648936),\n",
       " DecisionTreeClassifier(max_features='auto', random_state=1749923293),\n",
       " DecisionTreeClassifier(max_features='auto', random_state=1033982546),\n",
       " DecisionTreeClassifier(max_features='auto', random_state=1244195173),\n",
       " DecisionTreeClassifier(max_features='auto', random_state=1628508328),\n",
       " DecisionTreeClassifier(max_features='auto', random_state=34993385),\n",
       " DecisionTreeClassifier(max_features='auto', random_state=561690369),\n",
       " DecisionTreeClassifier(max_features='auto', random_state=352942651),\n",
       " DecisionTreeClassifier(max_features='auto', random_state=260405587),\n",
       " DecisionTreeClassifier(max_features='auto', random_state=923765923),\n",
       " DecisionTreeClassifier(max_features='auto', random_state=528472124),\n",
       " DecisionTreeClassifier(max_features='auto', random_state=1832906967),\n",
       " DecisionTreeClassifier(max_features='auto', random_state=1130506555),\n",
       " DecisionTreeClassifier(max_features='auto', random_state=711327144),\n",
       " DecisionTreeClassifier(max_features='auto', random_state=712141852),\n",
       " DecisionTreeClassifier(max_features='auto', random_state=1051502884),\n",
       " DecisionTreeClassifier(max_features='auto', random_state=293809445),\n",
       " DecisionTreeClassifier(max_features='auto', random_state=1277554759),\n",
       " DecisionTreeClassifier(max_features='auto', random_state=432955598),\n",
       " DecisionTreeClassifier(max_features='auto', random_state=182520280),\n",
       " DecisionTreeClassifier(max_features='auto', random_state=720995130),\n",
       " DecisionTreeClassifier(max_features='auto', random_state=53403342),\n",
       " DecisionTreeClassifier(max_features='auto', random_state=956499848),\n",
       " DecisionTreeClassifier(max_features='auto', random_state=1779094370),\n",
       " DecisionTreeClassifier(max_features='auto', random_state=2116246966),\n",
       " DecisionTreeClassifier(max_features='auto', random_state=1430209410),\n",
       " DecisionTreeClassifier(max_features='auto', random_state=1860205966),\n",
       " DecisionTreeClassifier(max_features='auto', random_state=1696962488),\n",
       " DecisionTreeClassifier(max_features='auto', random_state=1590791504),\n",
       " DecisionTreeClassifier(max_features='auto', random_state=403573728),\n",
       " DecisionTreeClassifier(max_features='auto', random_state=1438341226),\n",
       " DecisionTreeClassifier(max_features='auto', random_state=518613290),\n",
       " DecisionTreeClassifier(max_features='auto', random_state=1035846320),\n",
       " DecisionTreeClassifier(max_features='auto', random_state=1944834411),\n",
       " DecisionTreeClassifier(max_features='auto', random_state=1784386550),\n",
       " DecisionTreeClassifier(max_features='auto', random_state=873551004),\n",
       " DecisionTreeClassifier(max_features='auto', random_state=1233158714),\n",
       " DecisionTreeClassifier(max_features='auto', random_state=1525764193),\n",
       " DecisionTreeClassifier(max_features='auto', random_state=1873567322),\n",
       " DecisionTreeClassifier(max_features='auto', random_state=2103633849),\n",
       " DecisionTreeClassifier(max_features='auto', random_state=1328930148),\n",
       " DecisionTreeClassifier(max_features='auto', random_state=267588423),\n",
       " DecisionTreeClassifier(max_features='auto', random_state=673542229),\n",
       " DecisionTreeClassifier(max_features='auto', random_state=1127949589),\n",
       " DecisionTreeClassifier(max_features='auto', random_state=2120691761),\n",
       " DecisionTreeClassifier(max_features='auto', random_state=281539037),\n",
       " DecisionTreeClassifier(max_features='auto', random_state=1789551633),\n",
       " DecisionTreeClassifier(max_features='auto', random_state=860230540),\n",
       " DecisionTreeClassifier(max_features='auto', random_state=1169122574),\n",
       " DecisionTreeClassifier(max_features='auto', random_state=699107586),\n",
       " DecisionTreeClassifier(max_features='auto', random_state=1650926674),\n",
       " DecisionTreeClassifier(max_features='auto', random_state=1427411526),\n",
       " DecisionTreeClassifier(max_features='auto', random_state=993325282),\n",
       " DecisionTreeClassifier(max_features='auto', random_state=6198971),\n",
       " DecisionTreeClassifier(max_features='auto', random_state=410779107),\n",
       " DecisionTreeClassifier(max_features='auto', random_state=1099026466),\n",
       " DecisionTreeClassifier(max_features='auto', random_state=1185851620),\n",
       " DecisionTreeClassifier(max_features='auto', random_state=1460713451),\n",
       " DecisionTreeClassifier(max_features='auto', random_state=1459184637),\n",
       " DecisionTreeClassifier(max_features='auto', random_state=91853272),\n",
       " DecisionTreeClassifier(max_features='auto', random_state=476231568),\n",
       " DecisionTreeClassifier(max_features='auto', random_state=1972692086),\n",
       " DecisionTreeClassifier(max_features='auto', random_state=1741949211),\n",
       " DecisionTreeClassifier(max_features='auto', random_state=1416496292),\n",
       " DecisionTreeClassifier(max_features='auto', random_state=195633813),\n",
       " DecisionTreeClassifier(max_features='auto', random_state=2028833146),\n",
       " DecisionTreeClassifier(max_features='auto', random_state=616351767),\n",
       " DecisionTreeClassifier(max_features='auto', random_state=1301890139),\n",
       " DecisionTreeClassifier(max_features='auto', random_state=950592246),\n",
       " DecisionTreeClassifier(max_features='auto', random_state=880631627),\n",
       " DecisionTreeClassifier(max_features='auto', random_state=290782790),\n",
       " DecisionTreeClassifier(max_features='auto', random_state=97355010),\n",
       " DecisionTreeClassifier(max_features='auto', random_state=619563392),\n",
       " DecisionTreeClassifier(max_features='auto', random_state=1606299020),\n",
       " DecisionTreeClassifier(max_features='auto', random_state=1320558709),\n",
       " DecisionTreeClassifier(max_features='auto', random_state=227037889),\n",
       " DecisionTreeClassifier(max_features='auto', random_state=1188076462),\n",
       " DecisionTreeClassifier(max_features='auto', random_state=1893988724)]"
      ]
     },
     "execution_count": 36,
     "metadata": {},
     "output_type": "execute_result"
    }
   ],
   "source": [
    "clf.estimators_"
   ]
  },
  {
   "cell_type": "code",
   "execution_count": 37,
   "id": "adc314dc",
   "metadata": {},
   "outputs": [
    {
     "data": {
      "text/plain": [
       "array([0.09477327, 0.24998145, 0.28825481, 0.30428267, 0.0250257 ,\n",
       "       0.01375451, 0.0081017 , 0.01582588])"
      ]
     },
     "execution_count": 37,
     "metadata": {},
     "output_type": "execute_result"
    }
   ],
   "source": [
    "clf.feature_importances_"
   ]
  },
  {
   "cell_type": "code",
   "execution_count": 38,
   "id": "bdf5c704",
   "metadata": {},
   "outputs": [
    {
     "data": {
      "text/html": [
       "<div>\n",
       "<style scoped>\n",
       "    .dataframe tbody tr th:only-of-type {\n",
       "        vertical-align: middle;\n",
       "    }\n",
       "\n",
       "    .dataframe tbody tr th {\n",
       "        vertical-align: top;\n",
       "    }\n",
       "\n",
       "    .dataframe thead th {\n",
       "        text-align: right;\n",
       "    }\n",
       "</style>\n",
       "<table border=\"1\" class=\"dataframe\">\n",
       "  <thead>\n",
       "    <tr style=\"text-align: right;\">\n",
       "      <th></th>\n",
       "      <th>Pclass</th>\n",
       "      <th>Sex</th>\n",
       "      <th>Age</th>\n",
       "      <th>Fare</th>\n",
       "      <th>Alone</th>\n",
       "      <th>Embarked_C</th>\n",
       "      <th>Embarked_Q</th>\n",
       "      <th>Embarked_S</th>\n",
       "    </tr>\n",
       "  </thead>\n",
       "  <tbody>\n",
       "    <tr>\n",
       "      <th>124</th>\n",
       "      <td>1</td>\n",
       "      <td>0</td>\n",
       "      <td>54.000000</td>\n",
       "      <td>77.2875</td>\n",
       "      <td>0</td>\n",
       "      <td>0</td>\n",
       "      <td>0</td>\n",
       "      <td>1</td>\n",
       "    </tr>\n",
       "    <tr>\n",
       "      <th>141</th>\n",
       "      <td>3</td>\n",
       "      <td>1</td>\n",
       "      <td>22.000000</td>\n",
       "      <td>7.7500</td>\n",
       "      <td>1</td>\n",
       "      <td>0</td>\n",
       "      <td>0</td>\n",
       "      <td>1</td>\n",
       "    </tr>\n",
       "    <tr>\n",
       "      <th>21</th>\n",
       "      <td>2</td>\n",
       "      <td>0</td>\n",
       "      <td>34.000000</td>\n",
       "      <td>13.0000</td>\n",
       "      <td>1</td>\n",
       "      <td>0</td>\n",
       "      <td>0</td>\n",
       "      <td>1</td>\n",
       "    </tr>\n",
       "    <tr>\n",
       "      <th>650</th>\n",
       "      <td>3</td>\n",
       "      <td>0</td>\n",
       "      <td>29.699118</td>\n",
       "      <td>7.8958</td>\n",
       "      <td>1</td>\n",
       "      <td>0</td>\n",
       "      <td>0</td>\n",
       "      <td>1</td>\n",
       "    </tr>\n",
       "    <tr>\n",
       "      <th>331</th>\n",
       "      <td>1</td>\n",
       "      <td>0</td>\n",
       "      <td>45.500000</td>\n",
       "      <td>28.5000</td>\n",
       "      <td>1</td>\n",
       "      <td>0</td>\n",
       "      <td>0</td>\n",
       "      <td>1</td>\n",
       "    </tr>\n",
       "  </tbody>\n",
       "</table>\n",
       "</div>"
      ],
      "text/plain": [
       "     Pclass  Sex        Age     Fare  Alone  Embarked_C  Embarked_Q  \\\n",
       "124       1    0  54.000000  77.2875      0           0           0   \n",
       "141       3    1  22.000000   7.7500      1           0           0   \n",
       "21        2    0  34.000000  13.0000      1           0           0   \n",
       "650       3    0  29.699118   7.8958      1           0           0   \n",
       "331       1    0  45.500000  28.5000      1           0           0   \n",
       "\n",
       "     Embarked_S  \n",
       "124           1  \n",
       "141           1  \n",
       "21            1  \n",
       "650           1  \n",
       "331           1  "
      ]
     },
     "execution_count": 38,
     "metadata": {},
     "output_type": "execute_result"
    }
   ],
   "source": [
    "X_train.head()"
   ]
  },
  {
   "cell_type": "code",
   "execution_count": 40,
   "id": "301e83f6",
   "metadata": {},
   "outputs": [
    {
     "name": "stdout",
     "output_type": "stream",
     "text": [
      "0.8097014925373134\n"
     ]
    },
    {
     "name": "stderr",
     "output_type": "stream",
     "text": [
      "C:\\Users\\Kanishka Pawar\\anaconda3\\lib\\site-packages\\sklearn\\linear_model\\_logistic.py:763: ConvergenceWarning: lbfgs failed to converge (status=1):\n",
      "STOP: TOTAL NO. of ITERATIONS REACHED LIMIT.\n",
      "\n",
      "Increase the number of iterations (max_iter) or scale the data as shown in:\n",
      "    https://scikit-learn.org/stable/modules/preprocessing.html\n",
      "Please also refer to the documentation for alternative solver options:\n",
      "    https://scikit-learn.org/stable/modules/linear_model.html#logistic-regression\n",
      "  n_iter_i = _check_optimize_result(\n"
     ]
    }
   ],
   "source": [
    "from sklearn.linear_model import LogisticRegression   #we can try various models\n",
    "clf = LogisticRegression()\n",
    "clf.fit(X_train, y_train)\n",
    "y_pred=clf.predict(X_test)\n",
    "print(accuracy_score(y_pred,y_test))"
   ]
  },
  {
   "cell_type": "raw",
   "id": "c5a05259",
   "metadata": {},
   "source": [
    "We need to try out each and every models which suits best "
   ]
  },
  {
   "cell_type": "code",
   "execution_count": 44,
   "id": "a94f74bd",
   "metadata": {},
   "outputs": [],
   "source": [
    "def models(clf,X_test,y_test,X_train,y_train):\n",
    "    clf.fit(X_train, y_train)\n",
    "    y_pred=clf.predict(X_test)\n",
    "    print(accuracy_score(y_pred,y_test))"
   ]
  },
  {
   "cell_type": "code",
   "execution_count": 48,
   "id": "c29cfa5c",
   "metadata": {},
   "outputs": [
    {
     "name": "stdout",
     "output_type": "stream",
     "text": [
      "0.8097014925373134\n"
     ]
    },
    {
     "name": "stderr",
     "output_type": "stream",
     "text": [
      "C:\\Users\\Kanishka Pawar\\anaconda3\\lib\\site-packages\\sklearn\\linear_model\\_logistic.py:763: ConvergenceWarning: lbfgs failed to converge (status=1):\n",
      "STOP: TOTAL NO. of ITERATIONS REACHED LIMIT.\n",
      "\n",
      "Increase the number of iterations (max_iter) or scale the data as shown in:\n",
      "    https://scikit-learn.org/stable/modules/preprocessing.html\n",
      "Please also refer to the documentation for alternative solver options:\n",
      "    https://scikit-learn.org/stable/modules/linear_model.html#logistic-regression\n",
      "  n_iter_i = _check_optimize_result(\n"
     ]
    }
   ],
   "source": [
    "clf=LogisticRegression()\n",
    "models(clf,X_test,y_test,X_train,y_train)"
   ]
  },
  {
   "cell_type": "code",
   "execution_count": 50,
   "id": "fa763524",
   "metadata": {},
   "outputs": [
    {
     "name": "stdout",
     "output_type": "stream",
     "text": [
      "0.7985074626865671\n"
     ]
    }
   ],
   "source": [
    "clf=RandomForestClassifier()\n",
    "models(clf,X_test,y_test,X_train,y_train)"
   ]
  },
  {
   "cell_type": "code",
   "execution_count": null,
   "id": "4c208fa7",
   "metadata": {},
   "outputs": [],
   "source": []
  }
 ],
 "metadata": {
  "kernelspec": {
   "display_name": "Python 3 (ipykernel)",
   "language": "python",
   "name": "python3"
  },
  "language_info": {
   "codemirror_mode": {
    "name": "ipython",
    "version": 3
   },
   "file_extension": ".py",
   "mimetype": "text/x-python",
   "name": "python",
   "nbconvert_exporter": "python",
   "pygments_lexer": "ipython3",
   "version": "3.8.12"
  }
 },
 "nbformat": 4,
 "nbformat_minor": 5
}
